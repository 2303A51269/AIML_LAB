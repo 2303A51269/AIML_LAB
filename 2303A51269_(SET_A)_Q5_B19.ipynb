{
  "nbformat": 4,
  "nbformat_minor": 0,
  "metadata": {
    "colab": {
      "provenance": [],
      "include_colab_link": true
    },
    "kernelspec": {
      "name": "python3",
      "display_name": "Python 3"
    },
    "language_info": {
      "name": "python"
    }
  },
  "cells": [
    {
      "cell_type": "markdown",
      "metadata": {
        "id": "view-in-github",
        "colab_type": "text"
      },
      "source": [
        "<a href=\"https://colab.research.google.com/github/2303A51269/AIML_LAB/blob/main/2303A51269_(SET_A)_Q5_B19.ipynb\" target=\"_parent\"><img src=\"https://colab.research.google.com/assets/colab-badge.svg\" alt=\"Open In Colab\"/></a>"
      ]
    },
    {
      "cell_type": "code",
      "execution_count": 1,
      "metadata": {
        "id": "HidWEYPjV4OX"
      },
      "outputs": [],
      "source": [
        "import pandas as pd\n",
        "data = pd.read_csv(\"recipe.csv\")"
      ]
    },
    {
      "cell_type": "code",
      "source": [
        "# Q1\n",
        "most_appreciated_recipe = (\n",
        "    data.groupby(\"recipe_name\")[\"stars\"]\n",
        "    .mean()\n",
        "    .sort_values(ascending=False)\n",
        "    .idxmax()\n",
        ")"
      ],
      "metadata": {
        "id": "eR3t_vyAahAW"
      },
      "execution_count": 2,
      "outputs": []
    },
    {
      "cell_type": "code",
      "source": [
        "# Q2\n",
        "top_5_recipes_prepared = (\n",
        "    data[\"recipe_name\"]\n",
        "    .value_counts()\n",
        "    .head(5)\n",
        "    .index.tolist()\n",
        ")"
      ],
      "metadata": {
        "id": "6bBo0wwaaeVd"
      },
      "execution_count": 3,
      "outputs": []
    },
    {
      "cell_type": "code",
      "source": [
        "# Q3\n",
        "most_liked_recipe = (\n",
        "data.groupby(\"recipe_name\")[\"thumbs_up\"]\n",
        ".sum()\n",
        ".sort_values(ascending=False)\n",
        ".idxmax()\n",
        ") # Removed extra ')' and unexpected indentation"
      ],
      "metadata": {
        "id": "xEIyY_XhaVYM"
      },
      "execution_count": 6,
      "outputs": []
    },
    {
      "cell_type": "code",
      "source": [
        "data.groupby(\"recipe_name\")[\"user_reputation\"]"
      ],
      "metadata": {
        "id": "xvNcWdp5aZ1n",
        "colab": {
          "base_uri": "https://localhost:8080/"
        },
        "outputId": "382744e4-e438-4a34-cd81-cad46684ec12"
      },
      "execution_count": 8,
      "outputs": [
        {
          "output_type": "execute_result",
          "data": {
            "text/plain": [
              "<pandas.core.groupby.generic.SeriesGroupBy object at 0x7adacf0f54b0>"
            ]
          },
          "metadata": {},
          "execution_count": 8
        }
      ]
    },
    {
      "cell_type": "code",
      "source": [
        "# Q5\n",
        "most_ordered_recipes = (\n",
        "    data[\"recipe_name\"]\n",
        "    .value_counts()\n",
        "    .head(100)\n",
        "    .index.tolist()\n",
        ")"
      ],
      "metadata": {
        "id": "ExIojgtqZgkF"
      },
      "execution_count": 9,
      "outputs": []
    },
    {
      "cell_type": "code",
      "source": [
        "# Q3\n",
        "most_user_delight_recipe = (\n",
        "    data.groupby(\"recipe_name\")[\"thumbs_up\"]\n",
        "    .sum()\n",
        "    .sort_values(ascending=False)\n",
        "    .idxmax()\n",
        ")\n",
        "\n",
        "# Q4 - Calculate the recipe with the highest average reputation\n",
        "highest_reputation_recipe = (\n",
        "    data.groupby(\"recipe_name\")[\"user_reputation\"]\n",
        "    .mean()  # Use mean to get average reputation for each recipe\n",
        "    .sort_values(ascending=False)\n",
        "    .idxmax()\n",
        ")\n",
        "\n",
        "#... (rest of the code) ...\n",
        "\n",
        "print(\"Q1. Most Appreciated Recipe:\", most_appreciated_recipe)\n",
        "print(\"Q2. Top 5 Recipes Prepared the Most:\", top_5_recipes_prepared)\n",
        "print(\"Q3. Recipe with Most User Delight:\", most_user_delight_recipe)\n",
        "print(\"Q4. Recipe with Highest Reputation:\", highest_reputation_recipe)  # Now this line will work\n",
        "print(\"Q5. Most Ordered Recipes Among Top 100:\", most_ordered_recipes[:5])"
      ],
      "metadata": {
        "colab": {
          "base_uri": "https://localhost:8080/"
        },
        "id": "bEB5LZOOa_C8",
        "outputId": "feb6de57-17b4-4a4d-f451-06749bad8f49"
      },
      "execution_count": 12,
      "outputs": [
        {
          "output_type": "stream",
          "name": "stdout",
          "text": [
            "Q1. Most Appreciated Recipe: Rustic Italian Tortellini Soup\n",
            "Q2. Top 5 Recipes Prepared the Most: ['Cheeseburger Soup', 'Creamy White Chili', 'Best Ever Banana Bread', 'Enchilada Casser-Ole!', 'Basic Homemade Bread']\n",
            "Q3. Recipe with Most User Delight: Amish Breakfast Casserole\n",
            "Q4. Recipe with Highest Reputation: Quick Cream of Mushroom Soup\n",
            "Q5. Most Ordered Recipes Among Top 100: ['Cheeseburger Soup', 'Creamy White Chili', 'Best Ever Banana Bread', 'Enchilada Casser-Ole!', 'Basic Homemade Bread']\n"
          ]
        }
      ]
    }
  ]
}