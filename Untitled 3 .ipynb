{
  "nbformat": 4,
  "nbformat_minor": 0,
  "metadata": {
    "colab": {
      "provenance": [],
      "authorship_tag": "ABX9TyNfg6ptYc+B92Xpwwz1VO/Z",
      "include_colab_link": true
    },
    "kernelspec": {
      "name": "python3",
      "display_name": "Python 3"
    },
    "language_info": {
      "name": "python"
    }
  },
  "cells": [
    {
      "cell_type": "markdown",
      "metadata": {
        "id": "view-in-github",
        "colab_type": "text"
      },
      "source": [
        "<a href=\"https://colab.research.google.com/github/2303A51269/AIML_LAB/blob/main/Untitled%203%20.ipynb\" target=\"_parent\"><img src=\"https://colab.research.google.com/assets/colab-badge.svg\" alt=\"Open In Colab\"/></a>"
      ]
    },
    {
      "cell_type": "code",
      "execution_count": 1,
      "metadata": {
        "colab": {
          "base_uri": "https://localhost:8080/"
        },
        "id": "RDGuwK1fXCZ5",
        "outputId": "2a033d79-df24-444d-c740-f6bb693192b7"
      },
      "outputs": [
        {
          "output_type": "stream",
          "name": "stdout",
          "text": [
            "1.3\n"
          ]
        }
      ],
      "source": [
        "input=[1,2,3]\n",
        "weights=[0,0,0.1]\n",
        "bais=1\n",
        "output=input[0]*weights[0]+input[1]*weights[1]+input[2]*weights[2]+bais\n",
        "print(output)\n"
      ]
    },
    {
      "cell_type": "code",
      "source": [
        "input=[1,2,3]\n",
        "weights=[0,0,0.1]\n",
        "bais=1\n",
        "output=input[0]*weights[0]+input[1]*weights[1]+input[2]*weights[2]+bais\n",
        "print(output)\n"
      ],
      "metadata": {
        "colab": {
          "base_uri": "https://localhost:8080/"
        },
        "id": "YEHjcYK7XXKD",
        "outputId": "7faf463f-9f61-4d8f-a81b-86cfe92ff9cf"
      },
      "execution_count": 2,
      "outputs": [
        {
          "output_type": "stream",
          "name": "stdout",
          "text": [
            "1.3\n"
          ]
        }
      ]
    },
    {
      "cell_type": "code",
      "source": [],
      "metadata": {
        "id": "8YJ2c2FaXZob"
      },
      "execution_count": 3,
      "outputs": []
    },
    {
      "cell_type": "code",
      "source": [
        "input=[1,2,3]\n",
        "weights=[0,0,0.1]\n",
        "bais=1\n",
        "output=input[0]*weights[0]+input[1]*weights[1]+input[2]*weights[2]+bais\n",
        "print(output)\n",
        "\n",
        "input=[0,0.4,0.8,0.3,1]\n",
        "weight1=[0.3,0.2,0.1,0.4]\n",
        "weight2=[0.4,0.1,0.1,0.2]\n",
        "weight3=[0.2,0.2,0.1,0.8]\n",
        "bais1=0.5\n",
        "bais2=0.3\n",
        "bais3=0.6\n",
        "output = [input[0]*weight1[0]+input[1]*weight1[1]+input[2]*weight1[2]+input[3]*weight1[3]+bais1,\n",
        "         input[0]*weight1[0]+input[1]*weight1[1]+input[2]*weight1[2]+input[3]*weight1[3]+bais2,\n",
        "         input[0]*weight1[0]+input[1]*weight1[1]+input[2]*weight1[2]+input[3]*weight1[3]+bais3]\n",
        "print(output)\n",
        "\n"
      ],
      "metadata": {
        "colab": {
          "base_uri": "https://localhost:8080/"
        },
        "id": "lYDP1gwAX4fD",
        "outputId": "238a8434-56cc-491e-b068-19158ace2501"
      },
      "execution_count": 4,
      "outputs": [
        {
          "output_type": "stream",
          "name": "stdout",
          "text": [
            "1.3\n",
            "[0.78, 0.5800000000000001, 0.88]\n"
          ]
        }
      ]
    },
    {
      "cell_type": "code",
      "source": [
        "import numpy as np\n",
        "input=np.array([1,2,3,2.5])\n",
        "weight=np.array([[0.3,0.2,0.1,0.4],[0.4,0.1,0.1,0.2],[0.2,0.2,0.1,0.8]])\n",
        "bais=np.array([1,2,3])\n",
        "output=np.dot(weight,input)+bais\n",
        "print(output)\n"
      ],
      "metadata": {
        "colab": {
          "base_uri": "https://localhost:8080/"
        },
        "id": "TjiazoleX6Ta",
        "outputId": "7c8b6021-967f-407a-e447-0e48175ab2da"
      },
      "execution_count": 5,
      "outputs": [
        {
          "output_type": "stream",
          "name": "stdout",
          "text": [
            "[3.  3.4 5.9]\n"
          ]
        }
      ]
    },
    {
      "cell_type": "code",
      "source": [
        "import numpy as np\n",
        "def relu(x):\n",
        "  return np.maximum(0,x)\n",
        "  input=np.array([1,2,3,2.5])\n",
        "  weight=np.array([[0.3,0.2,0.1,0.4],[0.4,0.1,0.1,0.2],[0.2,0.2,0.1,0.8]])\n",
        "  bais=np.array([1,2,3])\n",
        "output=np.dot(weight,input)+bais\n",
        "output=relu(output)\n",
        "print(output)\n"
      ],
      "metadata": {
        "colab": {
          "base_uri": "https://localhost:8080/"
        },
        "id": "G-7P516iYala",
        "outputId": "2587a22f-34e3-4be3-d0a1-41115e0c5f54"
      },
      "execution_count": 6,
      "outputs": [
        {
          "output_type": "stream",
          "name": "stdout",
          "text": [
            "[3.  3.4 5.9]\n"
          ]
        }
      ]
    },
    {
      "cell_type": "code",
      "source": [
        "import numpy as np\n",
        "\n",
        "def sigmoid(x):\n",
        "  return 1 / (1 + np.exp(-x))\n",
        "\n",
        "def relu(x):\n",
        "  return np.maximum(0,x)\n",
        "\n",
        "inputs = np.array([0.4, 0.3, 1, 0.8])\n",
        "weights = np.array([\n",
        "    [0.3, 0.2, 0.1, 0.4],\n",
        "    [0.4, 0.1, -0.1, 0.2],\n",
        "    [0.2, -0.2, -0.1, 0.8]\n",
        "])\n",
        "biases = np.array([0.5, 0.3, 0.6])\n",
        "\n"
      ],
      "metadata": {
        "id": "nxHhTCFTYmhs"
      },
      "execution_count": 10,
      "outputs": []
    }
  ]
}