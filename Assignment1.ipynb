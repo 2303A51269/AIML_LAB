{
  "nbformat": 4,
  "nbformat_minor": 0,
  "metadata": {
    "colab": {
      "provenance": [],
      "authorship_tag": "ABX9TyOik3lyJkJBLJLk2EGTABUO",
      "include_colab_link": true
    },
    "kernelspec": {
      "name": "python3",
      "display_name": "Python 3"
    },
    "language_info": {
      "name": "python"
    }
  },
  "cells": [
    {
      "cell_type": "markdown",
      "metadata": {
        "id": "view-in-github",
        "colab_type": "text"
      },
      "source": [
        "<a href=\"https://colab.research.google.com/github/2303A51269/AIML_LAB/blob/main/Assignment1.ipynb\" target=\"_parent\"><img src=\"https://colab.research.google.com/assets/colab-badge.svg\" alt=\"Open In Colab\"/></a>"
      ]
    },
    {
      "cell_type": "code",
      "execution_count": 10,
      "metadata": {
        "colab": {
          "base_uri": "https://localhost:8080/"
        },
        "id": "i1YhziC3K7ks",
        "outputId": "a1372a7b-0b11-4286-fab7-b005769a2df8"
      },
      "outputs": [
        {
          "output_type": "stream",
          "name": "stdout",
          "text": [
            "[1 2 3 4 5]\n",
            "[1, 2, 3, 4, 5]\n",
            "3\n",
            "1\n",
            "<class 'int'>\n",
            "<class 'float'>\n",
            "<class 'str'>\n",
            "<class 'list'>\n"
          ]
        }
      ],
      "source": [
        "import numpy as np\n",
        "array_1 = np.array([1,2,3,4,5])\n",
        "print(array_1)\n",
        "List_1 =[1,2,3,4,5]\n",
        "List_2 =[6,7,8,9,10]\n",
        "print(List_1)\n",
        "print(List_1[2])\n",
        "print(List_1[0])\n",
        "x = 8\n",
        "y = 0.59\n",
        "z = \"Nishi\"\n",
        "print (type(x))\n",
        "print (type(y))\n",
        "print (type(z))\n",
        "print (type(List_1))"
      ]
    },
    {
      "cell_type": "code",
      "source": [
        "\n",
        "import numpy as np\n",
        "array_1 =np.array([7,4,8,2])\n",
        "array_2 =np.array([2,5,1,6])\n",
        "result = array_1 * array_2\n",
        "print(result)"
      ],
      "metadata": {
        "colab": {
          "base_uri": "https://localhost:8080/"
        },
        "id": "67okTRGDUAmJ",
        "outputId": "1fdf5e8f-09a6-4853-c0b9-22fb3085b05d"
      },
      "execution_count": 11,
      "outputs": [
        {
          "output_type": "stream",
          "name": "stdout",
          "text": [
            "[14 20  8 12]\n"
          ]
        }
      ]
    },
    {
      "cell_type": "code",
      "source": [
        "import numpy as np\n",
        "array1 = np.array([7,4,8,2])\n",
        "array2 = np.array([9,5,3,6])\n",
        "result = array1 / array2\n",
        "print(result)"
      ],
      "metadata": {
        "colab": {
          "base_uri": "https://localhost:8080/"
        },
        "id": "q_R1JVcOUBRT",
        "outputId": "a5b5796e-c4c1-4038-87cb-dec5dd656b04"
      },
      "execution_count": 12,
      "outputs": [
        {
          "output_type": "stream",
          "name": "stdout",
          "text": [
            "[0.77777778 0.8        2.66666667 0.33333333]\n"
          ]
        }
      ]
    },
    {
      "cell_type": "code",
      "source": [
        "import numpy as np\n",
        "array1 = np.array([7,4,8,2])\n",
        "array2 = np.array([9,5,3,6])\n",
        "result = array1 ** array2\n",
        "print(result)"
      ],
      "metadata": {
        "colab": {
          "base_uri": "https://localhost:8080/"
        },
        "id": "RJk1Q8g8UCDU",
        "outputId": "65856a42-cca0-4705-cf00-f359a7edc74b"
      },
      "execution_count": 13,
      "outputs": [
        {
          "output_type": "stream",
          "name": "stdout",
          "text": [
            "[40353607     1024      512       64]\n"
          ]
        }
      ]
    },
    {
      "cell_type": "code",
      "source": [
        "import numpy as np\n",
        "array1 = np.array([7,4,8,2])\n",
        "array2 = np.array([9,5,3,6])\n",
        "result = array1 + array2\n",
        "print(\"addition of 2 arrays:\",result)"
      ],
      "metadata": {
        "colab": {
          "base_uri": "https://localhost:8080/"
        },
        "id": "86FxyPBUUDbf",
        "outputId": "3c714dbd-9eff-494e-bb26-c81c5234eb2c"
      },
      "execution_count": 14,
      "outputs": [
        {
          "output_type": "stream",
          "name": "stdout",
          "text": [
            "addition of 2 arrays: [16  9 11  8]\n"
          ]
        }
      ]
    },
    {
      "cell_type": "code",
      "source": [
        "import numpy as np\n",
        "array3 = np.array([0,np.pi/2,np.pi*3])\n",
        "sinarray = np.sin(array3)\n",
        "print (sinarray)"
      ],
      "metadata": {
        "colab": {
          "base_uri": "https://localhost:8080/"
        },
        "id": "5fyX4wX1UDmt",
        "outputId": "a8e53b04-c9c6-48fe-ae0d-8e1ae78567ad"
      },
      "execution_count": 15,
      "outputs": [
        {
          "output_type": "stream",
          "name": "stdout",
          "text": [
            "[0.0000000e+00 1.0000000e+00 3.6739404e-16]\n"
          ]
        }
      ]
    },
    {
      "cell_type": "code",
      "source": [
        "import numpy as np\n",
        "array4 = np.array([0, np.e/2,np.e*3])\n",
        "logarray = np.log(array4)\n",
        "print (logarray)"
      ],
      "metadata": {
        "colab": {
          "base_uri": "https://localhost:8080/"
        },
        "id": "IqrsWsieVfXv",
        "outputId": "b6ade72c-fad3-45b2-e137-6852f7ceaa00"
      },
      "execution_count": 16,
      "outputs": [
        {
          "output_type": "stream",
          "name": "stdout",
          "text": [
            "[      -inf 0.30685282 2.09861229]\n"
          ]
        },
        {
          "output_type": "stream",
          "name": "stderr",
          "text": [
            "<ipython-input-16-ec63ad9f3a37>:3: RuntimeWarning: divide by zero encountered in log\n",
            "  logarray = np.log(array4)\n"
          ]
        }
      ]
    },
    {
      "cell_type": "code",
      "source": [
        "import numpy as np\n",
        "array5 = np.array([1,np.e,np.e**2,10])\n",
        "log_array = np.log(array5)\n",
        "print(log_array)\n"
      ],
      "metadata": {
        "colab": {
          "base_uri": "https://localhost:8080/"
        },
        "id": "FqH8NkxBWPZa",
        "outputId": "dc2b66d7-d82f-42cc-edd7-1117451f6b0b"
      },
      "execution_count": 17,
      "outputs": [
        {
          "output_type": "stream",
          "name": "stdout",
          "text": [
            "[0.         1.         2.         2.30258509]\n"
          ]
        }
      ]
    }
  ]
}